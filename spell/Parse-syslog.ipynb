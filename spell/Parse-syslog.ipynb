{
 "cells": [
  {
   "cell_type": "code",
   "execution_count": null,
   "metadata": {},
   "outputs": [],
   "source": [
    "from spell import LCSObject, LCSMap, LCSMultiMap"
   ]
  },
  {
   "cell_type": "code",
   "execution_count": null,
   "metadata": {
    "scrolled": false
   },
   "outputs": [],
   "source": [
    "mm = LCSMultiMap()\n",
    "files = ['testfiles/XN871CC06A33DA90-2017-12-22T01:51:12UTC-syslog']\n",
    "\n",
    "morefiles = ['testfiles/XN871CC06A33DA90-2017-12-22T06:55:26UTC-syslog',\n",
    "             'testfiles/XN871CC06A33DA90-2017-12-30T00:51:54UTC-syslog',\n",
    "             'testfiles/XN871CC06A33DA90-2017-12-31T14:32:58UTC-syslog',\n",
    "             'testfiles/XN871CC06A33DA90-2018-01-03T07:34:04UTC-syslog',\n",
    "             'testfiles/XN871CC06A33DA90-2018-01-14T01:25:28UTC-syslog',\n",
    "             'testfiles/XN871CC06A33DA90-2018-01-14T04:06:28UTC-syslog',\n",
    "             'testfiles/XN871CC06A33DA90-2018-01-16T18:17:34UTC-syslog']\n",
    "\n",
    "\n",
    "for f in files :\n",
    "    with open(f, \"r\") as my_file:\n",
    "      for line in my_file:\n",
    "          s = line.replace(\"[\",\" \").replace(\"]:\",\" \").replace(\"]\",\" \").replace(\"(\",\" \").replace(\")\",\" \").split()\n",
    "          #print(s)\n",
    "          if len(s) > 8:\n",
    "              mm.insert(s[6],s[8:])\n",
    "   # print(m.len())\n",
    "    print(\"************************************************************************************************\")\n",
    "print(\"************************************************************************************************\")\n",
    "mm.debug()"
   ]
  },
  {
   "cell_type": "code",
   "execution_count": null,
   "metadata": {},
   "outputs": [],
   "source": [
    "r,v = mm.getMatch('dropbear', ['Child','connection','from','fred'])\n",
    "r.debug()\n",
    "print(v)"
   ]
  }
 ],
 "metadata": {
  "kernelspec": {
   "display_name": "Python 3",
   "language": "python",
   "name": "python3"
  },
  "language_info": {
   "codemirror_mode": {
    "name": "ipython",
    "version": 3
   },
   "file_extension": ".py",
   "mimetype": "text/x-python",
   "name": "python",
   "nbconvert_exporter": "python",
   "pygments_lexer": "ipython3",
   "version": "3.6.5"
  }
 },
 "nbformat": 4,
 "nbformat_minor": 2
}
