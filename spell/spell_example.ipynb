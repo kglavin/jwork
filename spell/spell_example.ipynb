{
 "cells": [
  {
   "cell_type": "code",
   "execution_count": 1,
   "metadata": {},
   "outputs": [],
   "source": [
    "from spell import LCSObject, LCSMap"
   ]
  },
  {
   "cell_type": "code",
   "execution_count": 2,
   "metadata": {},
   "outputs": [],
   "source": [
    "st1 = 'daemon service x regen started'\n",
    "s1 = st1.split()\n",
    "\n",
    "s2 = [ 'daemon', 'service', 'y', 'regen','started']\n",
    "st2 = 'daemon service y regen started'\n",
    "s3 = [ 'daemon', 'service', 'x', 'regen','stopped']\n",
    "st3 = 'daemon service x regen stopped'\n",
    "s4 = [ 'daemon', 'service', 'y', 'regen','stopped']\n",
    "st4 = 'daemon service y regen stopped'\n",
    "s5 = [ 'daemon', 'service', 'x', 'regen','started', 'error', '0']\n",
    "st5 = 'daemon service x regen started error 0'\n",
    "s6 = [ 'daemon', 'service', 'x', 'regen','stopped', 'error', '6']\n",
    "st6 = 'daemon service x regen stopped error 6'"
   ]
  },
  {
   "cell_type": "code",
   "execution_count": 3,
   "metadata": {},
   "outputs": [
    {
     "name": "stdout",
     "output_type": "stream",
     "text": [
      "5 1\n",
      "5 2\n",
      "5 3\n",
      "5 4\n",
      "5 5\n",
      "5 6\n",
      "5 6\n",
      "    LCSOBJ:lineIds num =  6\n",
      "    LCSOBJ:paramVector =  2 3  5 \n",
      "    LCSOBJ:LCSseq =  ['daemon', 'service', '*', 'regen', '*']\n"
     ]
    }
   ],
   "source": [
    "o = LCSObject(s1, 1)\n",
    "print(o.len(), o.count())\n",
    "o.LCSseq\n",
    "\n",
    "o.insert(s3,3)\n",
    "print(o.len(), o.count())\n",
    "o.LCSseq\n",
    "\n",
    "o.insert(s2,2)\n",
    "print(o.len(), o.count())\n",
    "o.LCSseq\n",
    "\n",
    "o.insert(s4,4)\n",
    "print(o.len(), o.count())\n",
    "o.LCSseq\n",
    "\n",
    "o.insert(s5,5)\n",
    "print(o.len(), o.count())\n",
    "o.LCSseq\n",
    "\n",
    "o.insert(s6,6)\n",
    "print(o.len(), o.count())\n",
    "o.LCSseq\n",
    "\n",
    "o.lineIds\n",
    "o.LCSseq\n",
    "print(o.len(), o.count())\n",
    "o.debug(\"    \")\n"
   ]
  },
  {
   "cell_type": "code",
   "execution_count": 4,
   "metadata": {},
   "outputs": [
    {
     "name": "stdout",
     "output_type": "stream",
     "text": [
      "matching empty: None\n",
      "0\n",
      "-m--LCSMap:lineId =  0\n",
      "--------------\n",
      "inserting: ['daemon', 'service', 'x', 'regen', 'started']\n",
      "1\n",
      "-m--LCSMap:lineId =  1\n",
      "-m--LCSOBJ:lineIds num =  1\n",
      "-m--LCSOBJ:paramVector =  0 \n",
      "-m--LCSOBJ:LCSseq =  ['daemon', 'service', 'x', 'regen', 'started']\n",
      "--------------\n",
      "matching ['daemon', 'service', 'x', 'regen', 'started']: daemonservicexregenstarted\n",
      "1\n",
      "-m--LCSMap:lineId =  1\n",
      "-m--LCSOBJ:lineIds num =  1\n",
      "-m--LCSOBJ:paramVector =  0 \n",
      "-m--LCSOBJ:LCSseq =  ['daemon', 'service', 'x', 'regen', 'started']\n",
      "--------------\n",
      "inserting: ['daemon', 'service', 'y', 'regen', 'started']\n",
      "1\n",
      "-m--LCSMap:lineId =  2\n",
      "-m--LCSOBJ:lineIds num =  2\n",
      "-m--LCSOBJ:paramVector =  1 3 \n",
      "-m--LCSOBJ:LCSseq =  ['daemon', 'service', '*', 'regen', 'started']\n",
      "--------------\n",
      "inserting: ['daemon', 'service', 'x', 'regen', 'started'] -- again\n",
      "1\n",
      "-m--LCSMap:lineId =  3\n",
      "-m--LCSOBJ:lineIds num =  3\n",
      "-m--LCSOBJ:paramVector =  1 3 \n",
      "-m--LCSOBJ:LCSseq =  ['daemon', 'service', '*', 'regen', 'started']\n"
     ]
    }
   ],
   "source": [
    "m = LCSMap()\n",
    "r = m.getMatch(s1)\n",
    "print(f'matching empty: {r}') \n",
    "print(m.len())\n",
    "m.debug()\n",
    "print('--------------')\n",
    "m.insert(s1)\n",
    "print(f'inserting: {s1}')\n",
    "print(m.len())\n",
    "m.debug()\n",
    "print('--------------')\n",
    "r = m.getMatch(s1)\n",
    "print(f'matching {s1}: {r.join()}') \n",
    "print(m.len())\n",
    "m.debug()\n",
    "print('--------------')\n",
    "print(f'inserting: {s2}')\n",
    "m.insert(s2)\n",
    "print(m.len())\n",
    "m.debug()\n",
    "print('--------------')\n",
    "print(f'inserting: {s1} -- again')\n",
    "m.insert(s2)\n",
    "print(m.len())\n",
    "m.debug()"
   ]
  },
  {
   "cell_type": "code",
   "execution_count": 13,
   "metadata": {},
   "outputs": [
    {
     "name": "stdout",
     "output_type": "stream",
     "text": [
      "2\n",
      "-m--LCSMap:lineId =  9\n",
      "-m--LCSOBJ:lineIds num =  3\n",
      "-m--LCSOBJ:paramVector =  1 3 \n",
      "-m--LCSOBJ:LCSseq =  ['daemon', 'service', '*', 'regen', 'started']\n",
      "-m--LCSOBJ:lineIds num =  6\n",
      "-m--LCSOBJ:paramVector =  1 4 \n",
      "-m--LCSOBJ:LCSseq =  ['this', 'is', 'a', '*', 'message']\n",
      "LCSOBJ:lineIds num =  3\n",
      "LCSOBJ:paramVector =  1 3 \n",
      "LCSOBJ:LCSseq =  ['daemon', 'service', '*', 'regen', 'started']\n",
      "3 x\n",
      "2\n",
      "-m--LCSMap:lineId =  9\n",
      "-m--LCSOBJ:lineIds num =  3\n",
      "-m--LCSOBJ:paramVector =  1 3 \n",
      "-m--LCSOBJ:LCSseq =  ['daemon', 'service', '*', 'regen', 'started']\n",
      "-m--LCSOBJ:lineIds num =  6\n",
      "-m--LCSOBJ:paramVector =  1 4 \n",
      "-m--LCSOBJ:LCSseq =  ['this', 'is', 'a', '*', 'message']\n",
      "LCSOBJ:lineIds num =  3\n",
      "LCSOBJ:paramVector =  1 3 \n",
      "LCSOBJ:LCSseq =  ['daemon', 'service', '*', 'regen', 'started']\n",
      "3 y\n"
     ]
    }
   ],
   "source": [
    "r = m.getMatch(s1)\n",
    "print(m.len())\n",
    "m.debug()\n",
    "r.debug()\n",
    "for x in r.paramVector:\n",
    "    print (x,s1[x-1])\n",
    "r = m.getMatch(s2)\n",
    "print(m.len())\n",
    "m.debug()\n",
    "r.debug()\n",
    "for x in r.paramVector:\n",
    "    print (x,s2[x-1])"
   ]
  },
  {
   "cell_type": "code",
   "execution_count": 6,
   "metadata": {},
   "outputs": [
    {
     "name": "stdout",
     "output_type": "stream",
     "text": [
      "--------------\n",
      "inserting: ['this', 'is', 'a', 'differnt', 'message'] -- \n",
      "2\n",
      "-m--LCSMap:lineId =  6\n",
      "-m--LCSOBJ:lineIds num =  3\n",
      "-m--LCSOBJ:paramVector =  1 3 \n",
      "-m--LCSOBJ:LCSseq =  ['daemon', 'service', '*', 'regen', 'started']\n",
      "-m--LCSOBJ:lineIds num =  3\n",
      "-m--LCSOBJ:paramVector =  0 \n",
      "-m--LCSOBJ:LCSseq =  ['this', 'is', 'a', 'differnt', 'message']\n"
     ]
    }
   ],
   "source": [
    "sstr = 'this is a differnt message'.split()\n",
    "print('--------------')\n",
    "print(f'inserting: {sstr} -- ')\n",
    "m.insert(sstr)\n",
    "m.insert(sstr)\n",
    "m.insert(sstr)\n",
    "print(m.len())\n",
    "m.debug()"
   ]
  },
  {
   "cell_type": "code",
   "execution_count": 7,
   "metadata": {},
   "outputs": [
    {
     "name": "stdout",
     "output_type": "stream",
     "text": [
      "--------------\n",
      "inserting: ['this', 'is', 'a', 'different', 'message'] -- \n",
      "2\n",
      "-m--LCSMap:lineId =  9\n",
      "-m--LCSOBJ:lineIds num =  3\n",
      "-m--LCSOBJ:paramVector =  1 3 \n",
      "-m--LCSOBJ:LCSseq =  ['daemon', 'service', '*', 'regen', 'started']\n",
      "-m--LCSOBJ:lineIds num =  6\n",
      "-m--LCSOBJ:paramVector =  1 4 \n",
      "-m--LCSOBJ:LCSseq =  ['this', 'is', 'a', '*', 'message']\n"
     ]
    }
   ],
   "source": [
    "sstr = 'this is a different message'.split()\n",
    "print('--------------')\n",
    "print(f'inserting: {sstr} -- ')\n",
    "m.insert(sstr)\n",
    "m.insert(sstr)\n",
    "m.insert(sstr)\n",
    "print(m.len())\n",
    "m.debug()"
   ]
  },
  {
   "cell_type": "code",
   "execution_count": 8,
   "metadata": {},
   "outputs": [
    {
     "name": "stdout",
     "output_type": "stream",
     "text": [
      "2\n",
      "-m--LCSMap:lineId =  9\n",
      "-m--LCSOBJ:lineIds num =  3\n",
      "-m--LCSOBJ:paramVector =  1 3 \n",
      "-m--LCSOBJ:LCSseq =  ['daemon', 'service', '*', 'regen', 'started']\n",
      "-m--LCSOBJ:lineIds num =  6\n",
      "-m--LCSOBJ:paramVector =  1 4 \n",
      "-m--LCSOBJ:LCSseq =  ['this', 'is', 'a', '*', 'message']\n",
      "found match - for different message\n",
      "LCSOBJ:lineIds num =  6\n",
      "LCSOBJ:paramVector =  1 4 \n",
      "LCSOBJ:LCSseq =  ['this', 'is', 'a', '*', 'message']\n",
      "found match - even with d as its a *\n",
      "correct - wierd message not in map\n"
     ]
    }
   ],
   "source": [
    "sstr = 'this is a different message'\n",
    "sstr_l = sstr.split()\n",
    "r = m.getMatch(sstr_l)\n",
    "print(m.len())\n",
    "m.debug()\n",
    "if r != None:\n",
    "    print('found match - for different message')\n",
    "r.debug()\n",
    "\n",
    "sstr = 'this is a d message'\n",
    "sstr_l = sstr.split()\n",
    "r = m.getMatch(sstr_l)\n",
    "if r != None:\n",
    "    print('found match - even with d as its a *')\n",
    "    \n",
    "sstr = 'wierd message'\n",
    "sstr_l = sstr.split()\n",
    "r = m.getMatch(sstr_l)\n",
    "if r == None:\n",
    "    print('correct - wierd message not in map')"
   ]
  },
  {
   "cell_type": "code",
   "execution_count": null,
   "metadata": {},
   "outputs": [],
   "source": []
  }
 ],
 "metadata": {
  "kernelspec": {
   "display_name": "Python 3",
   "language": "python",
   "name": "python3"
  },
  "language_info": {
   "codemirror_mode": {
    "name": "ipython",
    "version": 3
   },
   "file_extension": ".py",
   "mimetype": "text/x-python",
   "name": "python",
   "nbconvert_exporter": "python",
   "pygments_lexer": "ipython3",
   "version": "3.6.5"
  }
 },
 "nbformat": 4,
 "nbformat_minor": 2
}
